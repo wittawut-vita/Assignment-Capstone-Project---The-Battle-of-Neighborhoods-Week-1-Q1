{
    "cells": [
        {
            "metadata": {
                "collapsed": true
            },
            "cell_type": "markdown",
            "source": "<h1 align=center><font size = 5>Capstone Project - The Battle of Neighborhoods</font></h1>"
        },
        {
            "metadata": {},
            "cell_type": "markdown",
            "source": "# Housing Sales Prices & Venues Data Analysis of Bangkok \n## Introduction\n### A.1. Description & Disscusion of the Background \nBangkok is the capital and most populous city of Thailand. It is known in Thai as Krung Thep Maha Nakhon or simply Krung Thep. The city occupies 1,568.7 square kilometres (605.7 sq mi) in the Chao Phraya River delta in central Thailand, and has a population of over eight million, or 12.6 percent of the country's population. Over fourteen million people (22.2 percent) lived within the surrounding Bangkok Metropolitan Region at the 2010 census, making Bangkok the nation's primate city, significantly dwarfing Thailand's other urban centres in both size and importance to the national economy .The city of Bangkok has a population of 8,305,218 according to the 2010 census, or 12.6 percent of the national population. In 2018, the population has been estimated to be about 10 million. The city is divided into 50 districts in to total.Bangkok city's population density is an average 5,300 per square kilometer. When we think of it by the investor,we expect from them to prefer the districts where there is a lower real estate cost and the type of business they want to install is less intense because Bangkok is the economic centre of Thailand, and the heart of the country's investment and development.However, it is difficult to obtain information that will guide investors in direction. When we consider all these problems, we can create a map and information chart where the real estate index is placed on Bangkok and each district is clustered according to the venue density.\n"
        },
        {
         
